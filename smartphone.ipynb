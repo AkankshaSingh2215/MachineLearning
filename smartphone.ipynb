{
  "nbformat": 4,
  "nbformat_minor": 0,
  "metadata": {
    "colab": {
      "name": "smartphone.ipynb",
      "provenance": [],
      "authorship_tag": "ABX9TyMqrrDz2cGvp+zyeqP4jdHE",
      "include_colab_link": true
    },
    "kernelspec": {
      "name": "python3",
      "display_name": "Python 3"
    }
  },
  "cells": [
    {
      "cell_type": "markdown",
      "metadata": {
        "id": "view-in-github",
        "colab_type": "text"
      },
      "source": [
        "<a href=\"https://colab.research.google.com/github/AkankshaSingh2215/MachineLearning/blob/master/smartphone.ipynb\" target=\"_parent\"><img src=\"https://colab.research.google.com/assets/colab-badge.svg\" alt=\"Open In Colab\"/></a>"
      ]
    },
    {
      "cell_type": "code",
      "metadata": {
        "id": "QVeoRl2ZUVNl",
        "colab_type": "code",
        "colab": {}
      },
      "source": [
        "from google.colab import drive\n",
        "drive.mount('/content/drive')"
      ],
      "execution_count": null,
      "outputs": []
    },
    {
      "cell_type": "code",
      "metadata": {
        "id": "4coNcykEUu7L",
        "colab_type": "code",
        "colab": {}
      },
      "source": [
        "import numpy as np\n",
        "import pandas as pd\n",
        "import matplotlib.pyplot as plt\n",
        "import warnings\n",
        "warnings.filterwarnings('ignore')"
      ],
      "execution_count": null,
      "outputs": []
    },
    {
      "cell_type": "code",
      "metadata": {
        "id": "TOmJikqpVqP-",
        "colab_type": "code",
        "colab": {}
      },
      "source": [
        "train_df = pd.read_csv('/content/drive/My Drive/smartphone_train.csv')"
      ],
      "execution_count": null,
      "outputs": []
    },
    {
      "cell_type": "code",
      "metadata": {
        "id": "DzXB6BdFWPGs",
        "colab_type": "code",
        "colab": {
          "base_uri": "https://localhost:8080/",
          "height": 287
        },
        "outputId": "c46b8325-900c-4b68-96f8-7cae3c0eeb27"
      },
      "source": [
        "train_df.head()"
      ],
      "execution_count": null,
      "outputs": [
        {
          "output_type": "execute_result",
          "data": {
            "text/html": [
              "<div>\n",
              "<style scoped>\n",
              "    .dataframe tbody tr th:only-of-type {\n",
              "        vertical-align: middle;\n",
              "    }\n",
              "\n",
              "    .dataframe tbody tr th {\n",
              "        vertical-align: top;\n",
              "    }\n",
              "\n",
              "    .dataframe thead th {\n",
              "        text-align: right;\n",
              "    }\n",
              "</style>\n",
              "<table border=\"1\" class=\"dataframe\">\n",
              "  <thead>\n",
              "    <tr style=\"text-align: right;\">\n",
              "      <th></th>\n",
              "      <th>tBodyAcc-mean()-X</th>\n",
              "      <th>tBodyAcc-mean()-Y</th>\n",
              "      <th>tBodyAcc-mean()-Z</th>\n",
              "      <th>tBodyAcc-std()-X</th>\n",
              "      <th>tBodyAcc-std()-Y</th>\n",
              "      <th>tBodyAcc-std()-Z</th>\n",
              "      <th>tBodyAcc-mad()-X</th>\n",
              "      <th>tBodyAcc-mad()-Y</th>\n",
              "      <th>tBodyAcc-mad()-Z</th>\n",
              "      <th>tBodyAcc-max()-X</th>\n",
              "      <th>tBodyAcc-max()-Y</th>\n",
              "      <th>tBodyAcc-max()-Z</th>\n",
              "      <th>tBodyAcc-min()-X</th>\n",
              "      <th>tBodyAcc-min()-Y</th>\n",
              "      <th>tBodyAcc-min()-Z</th>\n",
              "      <th>tBodyAcc-sma()</th>\n",
              "      <th>tBodyAcc-energy()-X</th>\n",
              "      <th>tBodyAcc-energy()-Y</th>\n",
              "      <th>tBodyAcc-energy()-Z</th>\n",
              "      <th>tBodyAcc-iqr()-X</th>\n",
              "      <th>tBodyAcc-iqr()-Y</th>\n",
              "      <th>tBodyAcc-iqr()-Z</th>\n",
              "      <th>tBodyAcc-entropy()-X</th>\n",
              "      <th>tBodyAcc-entropy()-Y</th>\n",
              "      <th>tBodyAcc-entropy()-Z</th>\n",
              "      <th>tBodyAcc-arCoeff()-X,1</th>\n",
              "      <th>tBodyAcc-arCoeff()-X,2</th>\n",
              "      <th>tBodyAcc-arCoeff()-X,3</th>\n",
              "      <th>tBodyAcc-arCoeff()-X,4</th>\n",
              "      <th>tBodyAcc-arCoeff()-Y,1</th>\n",
              "      <th>tBodyAcc-arCoeff()-Y,2</th>\n",
              "      <th>tBodyAcc-arCoeff()-Y,3</th>\n",
              "      <th>tBodyAcc-arCoeff()-Y,4</th>\n",
              "      <th>tBodyAcc-arCoeff()-Z,1</th>\n",
              "      <th>tBodyAcc-arCoeff()-Z,2</th>\n",
              "      <th>tBodyAcc-arCoeff()-Z,3</th>\n",
              "      <th>tBodyAcc-arCoeff()-Z,4</th>\n",
              "      <th>tBodyAcc-correlation()-X,Y</th>\n",
              "      <th>tBodyAcc-correlation()-X,Z</th>\n",
              "      <th>tBodyAcc-correlation()-Y,Z</th>\n",
              "      <th>...</th>\n",
              "      <th>fBodyBodyAccJerkMag-entropy()</th>\n",
              "      <th>fBodyBodyAccJerkMag-maxInds</th>\n",
              "      <th>fBodyBodyAccJerkMag-meanFreq()</th>\n",
              "      <th>fBodyBodyAccJerkMag-skewness()</th>\n",
              "      <th>fBodyBodyAccJerkMag-kurtosis()</th>\n",
              "      <th>fBodyBodyGyroMag-mean()</th>\n",
              "      <th>fBodyBodyGyroMag-std()</th>\n",
              "      <th>fBodyBodyGyroMag-mad()</th>\n",
              "      <th>fBodyBodyGyroMag-max()</th>\n",
              "      <th>fBodyBodyGyroMag-min()</th>\n",
              "      <th>fBodyBodyGyroMag-sma()</th>\n",
              "      <th>fBodyBodyGyroMag-energy()</th>\n",
              "      <th>fBodyBodyGyroMag-iqr()</th>\n",
              "      <th>fBodyBodyGyroMag-entropy()</th>\n",
              "      <th>fBodyBodyGyroMag-maxInds</th>\n",
              "      <th>fBodyBodyGyroMag-meanFreq()</th>\n",
              "      <th>fBodyBodyGyroMag-skewness()</th>\n",
              "      <th>fBodyBodyGyroMag-kurtosis()</th>\n",
              "      <th>fBodyBodyGyroJerkMag-mean()</th>\n",
              "      <th>fBodyBodyGyroJerkMag-std()</th>\n",
              "      <th>fBodyBodyGyroJerkMag-mad()</th>\n",
              "      <th>fBodyBodyGyroJerkMag-max()</th>\n",
              "      <th>fBodyBodyGyroJerkMag-min()</th>\n",
              "      <th>fBodyBodyGyroJerkMag-sma()</th>\n",
              "      <th>fBodyBodyGyroJerkMag-energy()</th>\n",
              "      <th>fBodyBodyGyroJerkMag-iqr()</th>\n",
              "      <th>fBodyBodyGyroJerkMag-entropy()</th>\n",
              "      <th>fBodyBodyGyroJerkMag-maxInds</th>\n",
              "      <th>fBodyBodyGyroJerkMag-meanFreq()</th>\n",
              "      <th>fBodyBodyGyroJerkMag-skewness()</th>\n",
              "      <th>fBodyBodyGyroJerkMag-kurtosis()</th>\n",
              "      <th>angle(tBodyAccMean,gravity)</th>\n",
              "      <th>angle(tBodyAccJerkMean),gravityMean)</th>\n",
              "      <th>angle(tBodyGyroMean,gravityMean)</th>\n",
              "      <th>angle(tBodyGyroJerkMean,gravityMean)</th>\n",
              "      <th>angle(X,gravityMean)</th>\n",
              "      <th>angle(Y,gravityMean)</th>\n",
              "      <th>angle(Z,gravityMean)</th>\n",
              "      <th>subject</th>\n",
              "      <th>Activity</th>\n",
              "    </tr>\n",
              "  </thead>\n",
              "  <tbody>\n",
              "    <tr>\n",
              "      <th>0</th>\n",
              "      <td>0.288585</td>\n",
              "      <td>-0.020294</td>\n",
              "      <td>-0.132905</td>\n",
              "      <td>-0.995279</td>\n",
              "      <td>-0.983111</td>\n",
              "      <td>-0.913526</td>\n",
              "      <td>-0.995112</td>\n",
              "      <td>-0.983185</td>\n",
              "      <td>-0.923527</td>\n",
              "      <td>-0.934724</td>\n",
              "      <td>-0.567378</td>\n",
              "      <td>-0.744413</td>\n",
              "      <td>0.852947</td>\n",
              "      <td>0.685845</td>\n",
              "      <td>0.814263</td>\n",
              "      <td>-0.965523</td>\n",
              "      <td>-0.999945</td>\n",
              "      <td>-0.999863</td>\n",
              "      <td>-0.994612</td>\n",
              "      <td>-0.994231</td>\n",
              "      <td>-0.987614</td>\n",
              "      <td>-0.943220</td>\n",
              "      <td>-0.407747</td>\n",
              "      <td>-0.679338</td>\n",
              "      <td>-0.602122</td>\n",
              "      <td>0.929294</td>\n",
              "      <td>-0.853011</td>\n",
              "      <td>0.359910</td>\n",
              "      <td>-0.058526</td>\n",
              "      <td>0.256892</td>\n",
              "      <td>-0.224848</td>\n",
              "      <td>0.264106</td>\n",
              "      <td>-0.095246</td>\n",
              "      <td>0.278851</td>\n",
              "      <td>-0.465085</td>\n",
              "      <td>0.491936</td>\n",
              "      <td>-0.190884</td>\n",
              "      <td>0.376314</td>\n",
              "      <td>0.435129</td>\n",
              "      <td>0.660790</td>\n",
              "      <td>...</td>\n",
              "      <td>-1.0</td>\n",
              "      <td>-0.936508</td>\n",
              "      <td>0.346989</td>\n",
              "      <td>-0.516080</td>\n",
              "      <td>-0.802760</td>\n",
              "      <td>-0.980135</td>\n",
              "      <td>-0.961309</td>\n",
              "      <td>-0.973653</td>\n",
              "      <td>-0.952264</td>\n",
              "      <td>-0.989498</td>\n",
              "      <td>-0.980135</td>\n",
              "      <td>-0.999240</td>\n",
              "      <td>-0.992656</td>\n",
              "      <td>-0.701291</td>\n",
              "      <td>-1.000000</td>\n",
              "      <td>-0.128989</td>\n",
              "      <td>0.586156</td>\n",
              "      <td>0.374605</td>\n",
              "      <td>-0.991990</td>\n",
              "      <td>-0.990697</td>\n",
              "      <td>-0.989941</td>\n",
              "      <td>-0.992448</td>\n",
              "      <td>-0.991048</td>\n",
              "      <td>-0.991990</td>\n",
              "      <td>-0.999937</td>\n",
              "      <td>-0.990458</td>\n",
              "      <td>-0.871306</td>\n",
              "      <td>-1.000000</td>\n",
              "      <td>-0.074323</td>\n",
              "      <td>-0.298676</td>\n",
              "      <td>-0.710304</td>\n",
              "      <td>-0.112754</td>\n",
              "      <td>0.030400</td>\n",
              "      <td>-0.464761</td>\n",
              "      <td>-0.018446</td>\n",
              "      <td>-0.841247</td>\n",
              "      <td>0.179941</td>\n",
              "      <td>-0.058627</td>\n",
              "      <td>1</td>\n",
              "      <td>STANDING</td>\n",
              "    </tr>\n",
              "    <tr>\n",
              "      <th>1</th>\n",
              "      <td>0.278419</td>\n",
              "      <td>-0.016411</td>\n",
              "      <td>-0.123520</td>\n",
              "      <td>-0.998245</td>\n",
              "      <td>-0.975300</td>\n",
              "      <td>-0.960322</td>\n",
              "      <td>-0.998807</td>\n",
              "      <td>-0.974914</td>\n",
              "      <td>-0.957686</td>\n",
              "      <td>-0.943068</td>\n",
              "      <td>-0.557851</td>\n",
              "      <td>-0.818409</td>\n",
              "      <td>0.849308</td>\n",
              "      <td>0.685845</td>\n",
              "      <td>0.822637</td>\n",
              "      <td>-0.981930</td>\n",
              "      <td>-0.999991</td>\n",
              "      <td>-0.999788</td>\n",
              "      <td>-0.998405</td>\n",
              "      <td>-0.999150</td>\n",
              "      <td>-0.977866</td>\n",
              "      <td>-0.948225</td>\n",
              "      <td>-0.714892</td>\n",
              "      <td>-0.500930</td>\n",
              "      <td>-0.570979</td>\n",
              "      <td>0.611627</td>\n",
              "      <td>-0.329549</td>\n",
              "      <td>0.284213</td>\n",
              "      <td>0.284595</td>\n",
              "      <td>0.115705</td>\n",
              "      <td>-0.090963</td>\n",
              "      <td>0.294310</td>\n",
              "      <td>-0.281211</td>\n",
              "      <td>0.085988</td>\n",
              "      <td>-0.022153</td>\n",
              "      <td>-0.016657</td>\n",
              "      <td>-0.220643</td>\n",
              "      <td>-0.013429</td>\n",
              "      <td>-0.072692</td>\n",
              "      <td>0.579382</td>\n",
              "      <td>...</td>\n",
              "      <td>-1.0</td>\n",
              "      <td>-0.841270</td>\n",
              "      <td>0.532061</td>\n",
              "      <td>-0.624871</td>\n",
              "      <td>-0.900160</td>\n",
              "      <td>-0.988296</td>\n",
              "      <td>-0.983322</td>\n",
              "      <td>-0.982659</td>\n",
              "      <td>-0.986321</td>\n",
              "      <td>-0.991829</td>\n",
              "      <td>-0.988296</td>\n",
              "      <td>-0.999811</td>\n",
              "      <td>-0.993979</td>\n",
              "      <td>-0.720683</td>\n",
              "      <td>-0.948718</td>\n",
              "      <td>-0.271958</td>\n",
              "      <td>-0.336310</td>\n",
              "      <td>-0.720015</td>\n",
              "      <td>-0.995854</td>\n",
              "      <td>-0.996399</td>\n",
              "      <td>-0.995442</td>\n",
              "      <td>-0.996866</td>\n",
              "      <td>-0.994440</td>\n",
              "      <td>-0.995854</td>\n",
              "      <td>-0.999981</td>\n",
              "      <td>-0.994544</td>\n",
              "      <td>-1.000000</td>\n",
              "      <td>-1.000000</td>\n",
              "      <td>0.158075</td>\n",
              "      <td>-0.595051</td>\n",
              "      <td>-0.861499</td>\n",
              "      <td>0.053477</td>\n",
              "      <td>-0.007435</td>\n",
              "      <td>-0.732626</td>\n",
              "      <td>0.703511</td>\n",
              "      <td>-0.844788</td>\n",
              "      <td>0.180289</td>\n",
              "      <td>-0.054317</td>\n",
              "      <td>1</td>\n",
              "      <td>STANDING</td>\n",
              "    </tr>\n",
              "    <tr>\n",
              "      <th>2</th>\n",
              "      <td>0.279653</td>\n",
              "      <td>-0.019467</td>\n",
              "      <td>-0.113462</td>\n",
              "      <td>-0.995380</td>\n",
              "      <td>-0.967187</td>\n",
              "      <td>-0.978944</td>\n",
              "      <td>-0.996520</td>\n",
              "      <td>-0.963668</td>\n",
              "      <td>-0.977469</td>\n",
              "      <td>-0.938692</td>\n",
              "      <td>-0.557851</td>\n",
              "      <td>-0.818409</td>\n",
              "      <td>0.843609</td>\n",
              "      <td>0.682401</td>\n",
              "      <td>0.839344</td>\n",
              "      <td>-0.983478</td>\n",
              "      <td>-0.999969</td>\n",
              "      <td>-0.999660</td>\n",
              "      <td>-0.999470</td>\n",
              "      <td>-0.997130</td>\n",
              "      <td>-0.964810</td>\n",
              "      <td>-0.974675</td>\n",
              "      <td>-0.592235</td>\n",
              "      <td>-0.485821</td>\n",
              "      <td>-0.570979</td>\n",
              "      <td>0.273025</td>\n",
              "      <td>-0.086309</td>\n",
              "      <td>0.337202</td>\n",
              "      <td>-0.164739</td>\n",
              "      <td>0.017150</td>\n",
              "      <td>-0.074507</td>\n",
              "      <td>0.342256</td>\n",
              "      <td>-0.332564</td>\n",
              "      <td>0.239281</td>\n",
              "      <td>-0.136204</td>\n",
              "      <td>0.173863</td>\n",
              "      <td>-0.299493</td>\n",
              "      <td>-0.124698</td>\n",
              "      <td>-0.181105</td>\n",
              "      <td>0.608900</td>\n",
              "      <td>...</td>\n",
              "      <td>-1.0</td>\n",
              "      <td>-0.904762</td>\n",
              "      <td>0.660795</td>\n",
              "      <td>-0.724697</td>\n",
              "      <td>-0.928539</td>\n",
              "      <td>-0.989255</td>\n",
              "      <td>-0.986028</td>\n",
              "      <td>-0.984274</td>\n",
              "      <td>-0.990979</td>\n",
              "      <td>-0.995703</td>\n",
              "      <td>-0.989255</td>\n",
              "      <td>-0.999854</td>\n",
              "      <td>-0.993238</td>\n",
              "      <td>-0.736521</td>\n",
              "      <td>-0.794872</td>\n",
              "      <td>-0.212728</td>\n",
              "      <td>-0.535352</td>\n",
              "      <td>-0.871914</td>\n",
              "      <td>-0.995031</td>\n",
              "      <td>-0.995127</td>\n",
              "      <td>-0.994640</td>\n",
              "      <td>-0.996060</td>\n",
              "      <td>-0.995866</td>\n",
              "      <td>-0.995031</td>\n",
              "      <td>-0.999973</td>\n",
              "      <td>-0.993755</td>\n",
              "      <td>-1.000000</td>\n",
              "      <td>-0.555556</td>\n",
              "      <td>0.414503</td>\n",
              "      <td>-0.390748</td>\n",
              "      <td>-0.760104</td>\n",
              "      <td>-0.118559</td>\n",
              "      <td>0.177899</td>\n",
              "      <td>0.100699</td>\n",
              "      <td>0.808529</td>\n",
              "      <td>-0.848933</td>\n",
              "      <td>0.180637</td>\n",
              "      <td>-0.049118</td>\n",
              "      <td>1</td>\n",
              "      <td>STANDING</td>\n",
              "    </tr>\n",
              "    <tr>\n",
              "      <th>3</th>\n",
              "      <td>0.279174</td>\n",
              "      <td>-0.026201</td>\n",
              "      <td>-0.123283</td>\n",
              "      <td>-0.996091</td>\n",
              "      <td>-0.983403</td>\n",
              "      <td>-0.990675</td>\n",
              "      <td>-0.997099</td>\n",
              "      <td>-0.982750</td>\n",
              "      <td>-0.989302</td>\n",
              "      <td>-0.938692</td>\n",
              "      <td>-0.576159</td>\n",
              "      <td>-0.829711</td>\n",
              "      <td>0.843609</td>\n",
              "      <td>0.682401</td>\n",
              "      <td>0.837869</td>\n",
              "      <td>-0.986093</td>\n",
              "      <td>-0.999976</td>\n",
              "      <td>-0.999736</td>\n",
              "      <td>-0.999504</td>\n",
              "      <td>-0.997180</td>\n",
              "      <td>-0.983799</td>\n",
              "      <td>-0.986007</td>\n",
              "      <td>-0.627446</td>\n",
              "      <td>-0.850930</td>\n",
              "      <td>-0.911872</td>\n",
              "      <td>0.061436</td>\n",
              "      <td>0.074840</td>\n",
              "      <td>0.198204</td>\n",
              "      <td>-0.264307</td>\n",
              "      <td>0.072545</td>\n",
              "      <td>-0.155320</td>\n",
              "      <td>0.323154</td>\n",
              "      <td>-0.170813</td>\n",
              "      <td>0.294938</td>\n",
              "      <td>-0.306081</td>\n",
              "      <td>0.482148</td>\n",
              "      <td>-0.470129</td>\n",
              "      <td>-0.305693</td>\n",
              "      <td>-0.362654</td>\n",
              "      <td>0.507459</td>\n",
              "      <td>...</td>\n",
              "      <td>-1.0</td>\n",
              "      <td>1.000000</td>\n",
              "      <td>0.678921</td>\n",
              "      <td>-0.701131</td>\n",
              "      <td>-0.909639</td>\n",
              "      <td>-0.989413</td>\n",
              "      <td>-0.987836</td>\n",
              "      <td>-0.986850</td>\n",
              "      <td>-0.986749</td>\n",
              "      <td>-0.996199</td>\n",
              "      <td>-0.989413</td>\n",
              "      <td>-0.999876</td>\n",
              "      <td>-0.989136</td>\n",
              "      <td>-0.720891</td>\n",
              "      <td>-1.000000</td>\n",
              "      <td>-0.035684</td>\n",
              "      <td>-0.230091</td>\n",
              "      <td>-0.511217</td>\n",
              "      <td>-0.995221</td>\n",
              "      <td>-0.995237</td>\n",
              "      <td>-0.995722</td>\n",
              "      <td>-0.995273</td>\n",
              "      <td>-0.995732</td>\n",
              "      <td>-0.995221</td>\n",
              "      <td>-0.999974</td>\n",
              "      <td>-0.995226</td>\n",
              "      <td>-0.955696</td>\n",
              "      <td>-0.936508</td>\n",
              "      <td>0.404573</td>\n",
              "      <td>-0.117290</td>\n",
              "      <td>-0.482845</td>\n",
              "      <td>-0.036788</td>\n",
              "      <td>-0.012892</td>\n",
              "      <td>0.640011</td>\n",
              "      <td>-0.485366</td>\n",
              "      <td>-0.848649</td>\n",
              "      <td>0.181935</td>\n",
              "      <td>-0.047663</td>\n",
              "      <td>1</td>\n",
              "      <td>STANDING</td>\n",
              "    </tr>\n",
              "    <tr>\n",
              "      <th>4</th>\n",
              "      <td>0.276629</td>\n",
              "      <td>-0.016570</td>\n",
              "      <td>-0.115362</td>\n",
              "      <td>-0.998139</td>\n",
              "      <td>-0.980817</td>\n",
              "      <td>-0.990482</td>\n",
              "      <td>-0.998321</td>\n",
              "      <td>-0.979672</td>\n",
              "      <td>-0.990441</td>\n",
              "      <td>-0.942469</td>\n",
              "      <td>-0.569174</td>\n",
              "      <td>-0.824705</td>\n",
              "      <td>0.849095</td>\n",
              "      <td>0.683250</td>\n",
              "      <td>0.837869</td>\n",
              "      <td>-0.992653</td>\n",
              "      <td>-0.999991</td>\n",
              "      <td>-0.999856</td>\n",
              "      <td>-0.999757</td>\n",
              "      <td>-0.998004</td>\n",
              "      <td>-0.981232</td>\n",
              "      <td>-0.991325</td>\n",
              "      <td>-0.786553</td>\n",
              "      <td>-0.559477</td>\n",
              "      <td>-0.761434</td>\n",
              "      <td>0.313276</td>\n",
              "      <td>-0.131208</td>\n",
              "      <td>0.191161</td>\n",
              "      <td>0.086904</td>\n",
              "      <td>0.257615</td>\n",
              "      <td>-0.272505</td>\n",
              "      <td>0.434728</td>\n",
              "      <td>-0.315375</td>\n",
              "      <td>0.439744</td>\n",
              "      <td>-0.269069</td>\n",
              "      <td>0.179414</td>\n",
              "      <td>-0.088952</td>\n",
              "      <td>-0.155804</td>\n",
              "      <td>-0.189763</td>\n",
              "      <td>0.599213</td>\n",
              "      <td>...</td>\n",
              "      <td>-1.0</td>\n",
              "      <td>-1.000000</td>\n",
              "      <td>0.559058</td>\n",
              "      <td>-0.528901</td>\n",
              "      <td>-0.858933</td>\n",
              "      <td>-0.991433</td>\n",
              "      <td>-0.989059</td>\n",
              "      <td>-0.987744</td>\n",
              "      <td>-0.991462</td>\n",
              "      <td>-0.998353</td>\n",
              "      <td>-0.991433</td>\n",
              "      <td>-0.999902</td>\n",
              "      <td>-0.989321</td>\n",
              "      <td>-0.763372</td>\n",
              "      <td>-0.897436</td>\n",
              "      <td>-0.273582</td>\n",
              "      <td>-0.510282</td>\n",
              "      <td>-0.830702</td>\n",
              "      <td>-0.995093</td>\n",
              "      <td>-0.995465</td>\n",
              "      <td>-0.995279</td>\n",
              "      <td>-0.995609</td>\n",
              "      <td>-0.997418</td>\n",
              "      <td>-0.995093</td>\n",
              "      <td>-0.999974</td>\n",
              "      <td>-0.995487</td>\n",
              "      <td>-1.000000</td>\n",
              "      <td>-0.936508</td>\n",
              "      <td>0.087753</td>\n",
              "      <td>-0.351471</td>\n",
              "      <td>-0.699205</td>\n",
              "      <td>0.123320</td>\n",
              "      <td>0.122542</td>\n",
              "      <td>0.693578</td>\n",
              "      <td>-0.615971</td>\n",
              "      <td>-0.847865</td>\n",
              "      <td>0.185151</td>\n",
              "      <td>-0.043892</td>\n",
              "      <td>1</td>\n",
              "      <td>STANDING</td>\n",
              "    </tr>\n",
              "  </tbody>\n",
              "</table>\n",
              "<p>5 rows × 563 columns</p>\n",
              "</div>"
            ],
            "text/plain": [
              "   tBodyAcc-mean()-X  tBodyAcc-mean()-Y  ...  subject  Activity\n",
              "0           0.288585          -0.020294  ...        1  STANDING\n",
              "1           0.278419          -0.016411  ...        1  STANDING\n",
              "2           0.279653          -0.019467  ...        1  STANDING\n",
              "3           0.279174          -0.026201  ...        1  STANDING\n",
              "4           0.276629          -0.016570  ...        1  STANDING\n",
              "\n",
              "[5 rows x 563 columns]"
            ]
          },
          "metadata": {
            "tags": []
          },
          "execution_count": 8
        }
      ]
    },
    {
      "cell_type": "code",
      "metadata": {
        "id": "aWrt-jJ7Wesh",
        "colab_type": "code",
        "colab": {
          "base_uri": "https://localhost:8080/",
          "height": 34
        },
        "outputId": "983e7296-8e15-4be2-d6fd-e8adc510fd5c"
      },
      "source": [
        "train_df.shape"
      ],
      "execution_count": null,
      "outputs": [
        {
          "output_type": "execute_result",
          "data": {
            "text/plain": [
              "(7352, 563)"
            ]
          },
          "metadata": {
            "tags": []
          },
          "execution_count": 9
        }
      ]
    },
    {
      "cell_type": "code",
      "metadata": {
        "id": "ZfDSYNjIWjoc",
        "colab_type": "code",
        "colab": {}
      },
      "source": [
        "test_df = pd.read_csv('/content/drive/My Drive/smartphone_test.csv')"
      ],
      "execution_count": null,
      "outputs": []
    },
    {
      "cell_type": "code",
      "metadata": {
        "id": "qwPuk8kBW2-n",
        "colab_type": "code",
        "colab": {
          "base_uri": "https://localhost:8080/",
          "height": 34
        },
        "outputId": "75274924-b7d5-4a0d-c3dc-dcbb7bdab7aa"
      },
      "source": [
        "test_df.shape"
      ],
      "execution_count": null,
      "outputs": [
        {
          "output_type": "execute_result",
          "data": {
            "text/plain": [
              "(2947, 563)"
            ]
          },
          "metadata": {
            "tags": []
          },
          "execution_count": 11
        }
      ]
    },
    {
      "cell_type": "code",
      "metadata": {
        "id": "FLO3i0raW8_M",
        "colab_type": "code",
        "colab": {
          "base_uri": "https://localhost:8080/",
          "height": 102
        },
        "outputId": "b66ecc82-e1a4-4a69-c990-72900683c4a0"
      },
      "source": [
        "train_df.info()"
      ],
      "execution_count": null,
      "outputs": [
        {
          "output_type": "stream",
          "text": [
            "<class 'pandas.core.frame.DataFrame'>\n",
            "RangeIndex: 7352 entries, 0 to 7351\n",
            "Columns: 563 entries, tBodyAcc-mean()-X to Activity\n",
            "dtypes: float64(561), int64(1), object(1)\n",
            "memory usage: 31.6+ MB\n"
          ],
          "name": "stdout"
        }
      ]
    },
    {
      "cell_type": "code",
      "metadata": {
        "id": "v0n7w7AGXfF1",
        "colab_type": "code",
        "colab": {
          "base_uri": "https://localhost:8080/",
          "height": 34
        },
        "outputId": "3a1a8367-8364-4f0a-b589-066d11906353"
      },
      "source": [
        "train_df['subject'].nunique()"
      ],
      "execution_count": null,
      "outputs": [
        {
          "output_type": "execute_result",
          "data": {
            "text/plain": [
              "21"
            ]
          },
          "metadata": {
            "tags": []
          },
          "execution_count": 13
        }
      ]
    },
    {
      "cell_type": "code",
      "metadata": {
        "id": "-XSvvuf7XzII",
        "colab_type": "code",
        "colab": {
          "base_uri": "https://localhost:8080/",
          "height": 391
        },
        "outputId": "27bc1acd-4d8e-4564-e089-524f3f783fc1"
      },
      "source": [
        "train_df['subject'].value_counts()"
      ],
      "execution_count": null,
      "outputs": [
        {
          "output_type": "execute_result",
          "data": {
            "text/plain": [
              "25    409\n",
              "21    408\n",
              "26    392\n",
              "30    383\n",
              "28    382\n",
              "27    376\n",
              "23    372\n",
              "17    368\n",
              "16    366\n",
              "19    360\n",
              "1     347\n",
              "29    344\n",
              "3     341\n",
              "15    328\n",
              "6     325\n",
              "14    323\n",
              "22    321\n",
              "11    316\n",
              "7     308\n",
              "5     302\n",
              "8     281\n",
              "Name: subject, dtype: int64"
            ]
          },
          "metadata": {
            "tags": []
          },
          "execution_count": 14
        }
      ]
    },
    {
      "cell_type": "code",
      "metadata": {
        "id": "BviLuZD-YnC-",
        "colab_type": "code",
        "colab": {
          "base_uri": "https://localhost:8080/",
          "height": 119
        },
        "outputId": "977d5bfd-5dc5-4281-c64f-626d88912a7f"
      },
      "source": [
        "sorted(train_df['Activity'].unique())"
      ],
      "execution_count": null,
      "outputs": [
        {
          "output_type": "execute_result",
          "data": {
            "text/plain": [
              "['LAYING',\n",
              " 'SITTING',\n",
              " 'STANDING',\n",
              " 'WALKING',\n",
              " 'WALKING_DOWNSTAIRS',\n",
              " 'WALKING_UPSTAIRS']"
            ]
          },
          "metadata": {
            "tags": []
          },
          "execution_count": 15
        }
      ]
    },
    {
      "cell_type": "code",
      "metadata": {
        "id": "AVp4zOrOYEjC",
        "colab_type": "code",
        "colab": {
          "base_uri": "https://localhost:8080/",
          "height": 136
        },
        "outputId": "a70a85bb-9e9f-4b8f-f60f-1fc5463793d0"
      },
      "source": [
        "train_df['Activity'].value_counts()"
      ],
      "execution_count": null,
      "outputs": [
        {
          "output_type": "execute_result",
          "data": {
            "text/plain": [
              "LAYING                1407\n",
              "STANDING              1374\n",
              "SITTING               1286\n",
              "WALKING               1226\n",
              "WALKING_UPSTAIRS      1073\n",
              "WALKING_DOWNSTAIRS     986\n",
              "Name: Activity, dtype: int64"
            ]
          },
          "metadata": {
            "tags": []
          },
          "execution_count": 16
        }
      ]
    },
    {
      "cell_type": "code",
      "metadata": {
        "id": "dcj6yyBLbBTt",
        "colab_type": "code",
        "colab": {
          "base_uri": "https://localhost:8080/",
          "height": 554
        },
        "outputId": "afef0a55-acc8-45b6-f7dc-a349bb7bc660"
      },
      "source": [
        "plt.pie(np.array(train_df['Activity'].value_counts()),labels = train_df['Activity'].unique(), autopct='%0.2f' )"
      ],
      "execution_count": null,
      "outputs": [
        {
          "output_type": "execute_result",
          "data": {
            "text/plain": [
              "([<matplotlib.patches.Wedge at 0x7f949ae50d30>,\n",
              "  <matplotlib.patches.Wedge at 0x7f949ae64518>,\n",
              "  <matplotlib.patches.Wedge at 0x7f949ae64c88>,\n",
              "  <matplotlib.patches.Wedge at 0x7f949adeb438>,\n",
              "  <matplotlib.patches.Wedge at 0x7f949adebba8>,\n",
              "  <matplotlib.patches.Wedge at 0x7f949adf6358>],\n",
              " [Text(0.9071064061014833, 0.6222201925441275, 'STANDING'),\n",
              "  Text(-0.23874635466468208, 1.073778458591122, 'SITTING'),\n",
              "  Text(-1.0745883152841482, 0.2350743555872831, 'LAYING'),\n",
              "  Text(-0.7193129027755119, -0.832219290752544, 'WALKING'),\n",
              "  Text(0.29301586483507763, -1.0602554894717366, 'WALKING_DOWNSTAIRS'),\n",
              "  Text(1.0038008332903794, -0.4498709671511826, 'WALKING_UPSTAIRS')],\n",
              " [Text(0.4947853124189908, 0.3393928322967968, '19.14'),\n",
              "  Text(-0.13022528436255384, 0.5856973410497028, '18.69'),\n",
              "  Text(-0.5861390810640807, 0.12822237577488166, '17.49'),\n",
              "  Text(-0.3923524924230064, -0.453937794955933, '16.68'),\n",
              "  Text(0.15982683536458778, -0.5783211760754926, '14.59'),\n",
              "  Text(0.5475277272492978, -0.24538416390064502, '13.41')])"
            ]
          },
          "metadata": {
            "tags": []
          },
          "execution_count": 17
        },
        {
          "output_type": "display_data",
          "data": {
            "image/png": "[encoded data removed]",
            "text/plain": [
              "<Figure size 432x288 with 1 Axes>"
            ]
          },
          "metadata": {
            "tags": []
          }
        }
      ]
    },
    {
      "cell_type": "code",
      "metadata": {
        "id": "ydnYjvQIaRZK",
        "colab_type": "code",
        "colab": {}
      },
      "source": [
        "acc = 0\n",
        "gyro = 0\n",
        "others = 0\n",
        "for c in train_df.columns:\n",
        "  if 'Acc' in str(c):\n",
        "    acc = acc+1\n",
        "  elif 'Gyro' in str (c):\n",
        "    gyro = gyro + 1\n",
        "  else:\n",
        "    others = others + 1"
      ],
      "execution_count": null,
      "outputs": []
    },
    {
      "cell_type": "code",
      "metadata": {
        "id": "f_ve3hOzcIW9",
        "colab_type": "code",
        "colab": {
          "base_uri": "https://localhost:8080/",
          "height": 285
        },
        "outputId": "9186f96e-c374-41d6-b374-7bc7078f4300"
      },
      "source": [
        "plt.bar(['Accelerometer','Gyroscope','others'],[acc, gyro, others])"
      ],
      "execution_count": null,
      "outputs": [
        {
          "output_type": "execute_result",
          "data": {
            "text/plain": [
              "<BarContainer object of 3 artists>"
            ]
          },
          "metadata": {
            "tags": []
          },
          "execution_count": 19
        },
        {
          "output_type": "display_data",
          "data": {
            "image/png": "[encoded data removed]",
            "text/plain": [
              "<Figure size 432x288 with 1 Axes>"
            ]
          },
          "metadata": {
            "tags": []
          }
        }
      ]
    },
    {
      "cell_type": "code",
      "metadata": {
        "id": "og-5LhiskaWH",
        "colab_type": "code",
        "colab": {
          "base_uri": "https://localhost:8080/",
          "height": 629
        },
        "outputId": "a977522a-b927-45ba-814d-c953aa47868c"
      },
      "source": [
        "import seaborn as sns\n",
        "sns.set('notebook')\n",
        "plt.figure(figsize=(15, 10))\n",
        "sns.boxplot(x='Activity', y='tBodyAccMag-mean()', data= train_df, showfliers = False)"
      ],
      "execution_count": null,
      "outputs": [
        {
          "output_type": "execute_result",
          "data": {
            "text/plain": [
              "<matplotlib.axes._subplots.AxesSubplot at 0x7f9497c49128>"
            ]
          },
          "metadata": {
            "tags": []
          },
          "execution_count": 27
        },
        {
          "output_type": "display_data",
          "data": {
            "image/png": "[encoded data removed]",
            "text/plain": [
              "<Figure size 1080x720 with 1 Axes>"
            ]
          },
          "metadata": {
            "tags": []
          }
        }
      ]
    },
    {
      "cell_type": "code",
      "metadata": {
        "id": "fW-unrAfKfTk",
        "colab_type": "code",
        "colab": {}
      },
      "source": [
        "x_train = train_df.drop(['Activity','subject'], axis = 1)\n",
        "y_train = train_df['Activity']"
      ],
      "execution_count": null,
      "outputs": []
    },
    {
      "cell_type": "code",
      "metadata": {
        "id": "5tCV4usBLgfG",
        "colab_type": "code",
        "colab": {
          "base_uri": "https://localhost:8080/",
          "height": 287
        },
        "outputId": "4c36237e-a7fe-4fd2-bb1b-63421799455a"
      },
      "source": [
        "x_train.head()"
      ],
      "execution_count": null,
      "outputs": [
        {
          "output_type": "execute_result",
          "data": {
            "text/html": [
              "<div>\n",
              "<style scoped>\n",
              "    .dataframe tbody tr th:only-of-type {\n",
              "        vertical-align: middle;\n",
              "    }\n",
              "\n",
              "    .dataframe tbody tr th {\n",
              "        vertical-align: top;\n",
              "    }\n",
              "\n",
              "    .dataframe thead th {\n",
              "        text-align: right;\n",
              "    }\n",
              "</style>\n",
              "<table border=\"1\" class=\"dataframe\">\n",
              "  <thead>\n",
              "    <tr style=\"text-align: right;\">\n",
              "      <th></th>\n",
              "      <th>tBodyAcc-mean()-X</th>\n",
              "      <th>tBodyAcc-mean()-Y</th>\n",
              "      <th>tBodyAcc-mean()-Z</th>\n",
              "      <th>tBodyAcc-std()-X</th>\n",
              "      <th>tBodyAcc-std()-Y</th>\n",
              "      <th>tBodyAcc-std()-Z</th>\n",
              "      <th>tBodyAcc-mad()-X</th>\n",
              "      <th>tBodyAcc-mad()-Y</th>\n",
              "      <th>tBodyAcc-mad()-Z</th>\n",
              "      <th>tBodyAcc-max()-X</th>\n",
              "      <th>tBodyAcc-max()-Y</th>\n",
              "      <th>tBodyAcc-max()-Z</th>\n",
              "      <th>tBodyAcc-min()-X</th>\n",
              "      <th>tBodyAcc-min()-Y</th>\n",
              "      <th>tBodyAcc-min()-Z</th>\n",
              "      <th>tBodyAcc-sma()</th>\n",
              "      <th>tBodyAcc-energy()-X</th>\n",
              "      <th>tBodyAcc-energy()-Y</th>\n",
              "      <th>tBodyAcc-energy()-Z</th>\n",
              "      <th>tBodyAcc-iqr()-X</th>\n",
              "      <th>tBodyAcc-iqr()-Y</th>\n",
              "      <th>tBodyAcc-iqr()-Z</th>\n",
              "      <th>tBodyAcc-entropy()-X</th>\n",
              "      <th>tBodyAcc-entropy()-Y</th>\n",
              "      <th>tBodyAcc-entropy()-Z</th>\n",
              "      <th>tBodyAcc-arCoeff()-X,1</th>\n",
              "      <th>tBodyAcc-arCoeff()-X,2</th>\n",
              "      <th>tBodyAcc-arCoeff()-X,3</th>\n",
              "      <th>tBodyAcc-arCoeff()-X,4</th>\n",
              "      <th>tBodyAcc-arCoeff()-Y,1</th>\n",
              "      <th>tBodyAcc-arCoeff()-Y,2</th>\n",
              "      <th>tBodyAcc-arCoeff()-Y,3</th>\n",
              "      <th>tBodyAcc-arCoeff()-Y,4</th>\n",
              "      <th>tBodyAcc-arCoeff()-Z,1</th>\n",
              "      <th>tBodyAcc-arCoeff()-Z,2</th>\n",
              "      <th>tBodyAcc-arCoeff()-Z,3</th>\n",
              "      <th>tBodyAcc-arCoeff()-Z,4</th>\n",
              "      <th>tBodyAcc-correlation()-X,Y</th>\n",
              "      <th>tBodyAcc-correlation()-X,Z</th>\n",
              "      <th>tBodyAcc-correlation()-Y,Z</th>\n",
              "      <th>...</th>\n",
              "      <th>fBodyBodyAccJerkMag-energy()</th>\n",
              "      <th>fBodyBodyAccJerkMag-iqr()</th>\n",
              "      <th>fBodyBodyAccJerkMag-entropy()</th>\n",
              "      <th>fBodyBodyAccJerkMag-maxInds</th>\n",
              "      <th>fBodyBodyAccJerkMag-meanFreq()</th>\n",
              "      <th>fBodyBodyAccJerkMag-skewness()</th>\n",
              "      <th>fBodyBodyAccJerkMag-kurtosis()</th>\n",
              "      <th>fBodyBodyGyroMag-mean()</th>\n",
              "      <th>fBodyBodyGyroMag-std()</th>\n",
              "      <th>fBodyBodyGyroMag-mad()</th>\n",
              "      <th>fBodyBodyGyroMag-max()</th>\n",
              "      <th>fBodyBodyGyroMag-min()</th>\n",
              "      <th>fBodyBodyGyroMag-sma()</th>\n",
              "      <th>fBodyBodyGyroMag-energy()</th>\n",
              "      <th>fBodyBodyGyroMag-iqr()</th>\n",
              "      <th>fBodyBodyGyroMag-entropy()</th>\n",
              "      <th>fBodyBodyGyroMag-maxInds</th>\n",
              "      <th>fBodyBodyGyroMag-meanFreq()</th>\n",
              "      <th>fBodyBodyGyroMag-skewness()</th>\n",
              "      <th>fBodyBodyGyroMag-kurtosis()</th>\n",
              "      <th>fBodyBodyGyroJerkMag-mean()</th>\n",
              "      <th>fBodyBodyGyroJerkMag-std()</th>\n",
              "      <th>fBodyBodyGyroJerkMag-mad()</th>\n",
              "      <th>fBodyBodyGyroJerkMag-max()</th>\n",
              "      <th>fBodyBodyGyroJerkMag-min()</th>\n",
              "      <th>fBodyBodyGyroJerkMag-sma()</th>\n",
              "      <th>fBodyBodyGyroJerkMag-energy()</th>\n",
              "      <th>fBodyBodyGyroJerkMag-iqr()</th>\n",
              "      <th>fBodyBodyGyroJerkMag-entropy()</th>\n",
              "      <th>fBodyBodyGyroJerkMag-maxInds</th>\n",
              "      <th>fBodyBodyGyroJerkMag-meanFreq()</th>\n",
              "      <th>fBodyBodyGyroJerkMag-skewness()</th>\n",
              "      <th>fBodyBodyGyroJerkMag-kurtosis()</th>\n",
              "      <th>angle(tBodyAccMean,gravity)</th>\n",
              "      <th>angle(tBodyAccJerkMean),gravityMean)</th>\n",
              "      <th>angle(tBodyGyroMean,gravityMean)</th>\n",
              "      <th>angle(tBodyGyroJerkMean,gravityMean)</th>\n",
              "      <th>angle(X,gravityMean)</th>\n",
              "      <th>angle(Y,gravityMean)</th>\n",
              "      <th>angle(Z,gravityMean)</th>\n",
              "    </tr>\n",
              "  </thead>\n",
              "  <tbody>\n",
              "    <tr>\n",
              "      <th>0</th>\n",
              "      <td>0.288585</td>\n",
              "      <td>-0.020294</td>\n",
              "      <td>-0.132905</td>\n",
              "      <td>-0.995279</td>\n",
              "      <td>-0.983111</td>\n",
              "      <td>-0.913526</td>\n",
              "      <td>-0.995112</td>\n",
              "      <td>-0.983185</td>\n",
              "      <td>-0.923527</td>\n",
              "      <td>-0.934724</td>\n",
              "      <td>-0.567378</td>\n",
              "      <td>-0.744413</td>\n",
              "      <td>0.852947</td>\n",
              "      <td>0.685845</td>\n",
              "      <td>0.814263</td>\n",
              "      <td>-0.965523</td>\n",
              "      <td>-0.999945</td>\n",
              "      <td>-0.999863</td>\n",
              "      <td>-0.994612</td>\n",
              "      <td>-0.994231</td>\n",
              "      <td>-0.987614</td>\n",
              "      <td>-0.943220</td>\n",
              "      <td>-0.407747</td>\n",
              "      <td>-0.679338</td>\n",
              "      <td>-0.602122</td>\n",
              "      <td>0.929294</td>\n",
              "      <td>-0.853011</td>\n",
              "      <td>0.359910</td>\n",
              "      <td>-0.058526</td>\n",
              "      <td>0.256892</td>\n",
              "      <td>-0.224848</td>\n",
              "      <td>0.264106</td>\n",
              "      <td>-0.095246</td>\n",
              "      <td>0.278851</td>\n",
              "      <td>-0.465085</td>\n",
              "      <td>0.491936</td>\n",
              "      <td>-0.190884</td>\n",
              "      <td>0.376314</td>\n",
              "      <td>0.435129</td>\n",
              "      <td>0.660790</td>\n",
              "      <td>...</td>\n",
              "      <td>-0.999918</td>\n",
              "      <td>-0.991364</td>\n",
              "      <td>-1.0</td>\n",
              "      <td>-0.936508</td>\n",
              "      <td>0.346989</td>\n",
              "      <td>-0.516080</td>\n",
              "      <td>-0.802760</td>\n",
              "      <td>-0.980135</td>\n",
              "      <td>-0.961309</td>\n",
              "      <td>-0.973653</td>\n",
              "      <td>-0.952264</td>\n",
              "      <td>-0.989498</td>\n",
              "      <td>-0.980135</td>\n",
              "      <td>-0.999240</td>\n",
              "      <td>-0.992656</td>\n",
              "      <td>-0.701291</td>\n",
              "      <td>-1.000000</td>\n",
              "      <td>-0.128989</td>\n",
              "      <td>0.586156</td>\n",
              "      <td>0.374605</td>\n",
              "      <td>-0.991990</td>\n",
              "      <td>-0.990697</td>\n",
              "      <td>-0.989941</td>\n",
              "      <td>-0.992448</td>\n",
              "      <td>-0.991048</td>\n",
              "      <td>-0.991990</td>\n",
              "      <td>-0.999937</td>\n",
              "      <td>-0.990458</td>\n",
              "      <td>-0.871306</td>\n",
              "      <td>-1.000000</td>\n",
              "      <td>-0.074323</td>\n",
              "      <td>-0.298676</td>\n",
              "      <td>-0.710304</td>\n",
              "      <td>-0.112754</td>\n",
              "      <td>0.030400</td>\n",
              "      <td>-0.464761</td>\n",
              "      <td>-0.018446</td>\n",
              "      <td>-0.841247</td>\n",
              "      <td>0.179941</td>\n",
              "      <td>-0.058627</td>\n",
              "    </tr>\n",
              "    <tr>\n",
              "      <th>1</th>\n",
              "      <td>0.278419</td>\n",
              "      <td>-0.016411</td>\n",
              "      <td>-0.123520</td>\n",
              "      <td>-0.998245</td>\n",
              "      <td>-0.975300</td>\n",
              "      <td>-0.960322</td>\n",
              "      <td>-0.998807</td>\n",
              "      <td>-0.974914</td>\n",
              "      <td>-0.957686</td>\n",
              "      <td>-0.943068</td>\n",
              "      <td>-0.557851</td>\n",
              "      <td>-0.818409</td>\n",
              "      <td>0.849308</td>\n",
              "      <td>0.685845</td>\n",
              "      <td>0.822637</td>\n",
              "      <td>-0.981930</td>\n",
              "      <td>-0.999991</td>\n",
              "      <td>-0.999788</td>\n",
              "      <td>-0.998405</td>\n",
              "      <td>-0.999150</td>\n",
              "      <td>-0.977866</td>\n",
              "      <td>-0.948225</td>\n",
              "      <td>-0.714892</td>\n",
              "      <td>-0.500930</td>\n",
              "      <td>-0.570979</td>\n",
              "      <td>0.611627</td>\n",
              "      <td>-0.329549</td>\n",
              "      <td>0.284213</td>\n",
              "      <td>0.284595</td>\n",
              "      <td>0.115705</td>\n",
              "      <td>-0.090963</td>\n",
              "      <td>0.294310</td>\n",
              "      <td>-0.281211</td>\n",
              "      <td>0.085988</td>\n",
              "      <td>-0.022153</td>\n",
              "      <td>-0.016657</td>\n",
              "      <td>-0.220643</td>\n",
              "      <td>-0.013429</td>\n",
              "      <td>-0.072692</td>\n",
              "      <td>0.579382</td>\n",
              "      <td>...</td>\n",
              "      <td>-0.999867</td>\n",
              "      <td>-0.991134</td>\n",
              "      <td>-1.0</td>\n",
              "      <td>-0.841270</td>\n",
              "      <td>0.532061</td>\n",
              "      <td>-0.624871</td>\n",
              "      <td>-0.900160</td>\n",
              "      <td>-0.988296</td>\n",
              "      <td>-0.983322</td>\n",
              "      <td>-0.982659</td>\n",
              "      <td>-0.986321</td>\n",
              "      <td>-0.991829</td>\n",
              "      <td>-0.988296</td>\n",
              "      <td>-0.999811</td>\n",
              "      <td>-0.993979</td>\n",
              "      <td>-0.720683</td>\n",
              "      <td>-0.948718</td>\n",
              "      <td>-0.271958</td>\n",
              "      <td>-0.336310</td>\n",
              "      <td>-0.720015</td>\n",
              "      <td>-0.995854</td>\n",
              "      <td>-0.996399</td>\n",
              "      <td>-0.995442</td>\n",
              "      <td>-0.996866</td>\n",
              "      <td>-0.994440</td>\n",
              "      <td>-0.995854</td>\n",
              "      <td>-0.999981</td>\n",
              "      <td>-0.994544</td>\n",
              "      <td>-1.000000</td>\n",
              "      <td>-1.000000</td>\n",
              "      <td>0.158075</td>\n",
              "      <td>-0.595051</td>\n",
              "      <td>-0.861499</td>\n",
              "      <td>0.053477</td>\n",
              "      <td>-0.007435</td>\n",
              "      <td>-0.732626</td>\n",
              "      <td>0.703511</td>\n",
              "      <td>-0.844788</td>\n",
              "      <td>0.180289</td>\n",
              "      <td>-0.054317</td>\n",
              "    </tr>\n",
              "    <tr>\n",
              "      <th>2</th>\n",
              "      <td>0.279653</td>\n",
              "      <td>-0.019467</td>\n",
              "      <td>-0.113462</td>\n",
              "      <td>-0.995380</td>\n",
              "      <td>-0.967187</td>\n",
              "      <td>-0.978944</td>\n",
              "      <td>-0.996520</td>\n",
              "      <td>-0.963668</td>\n",
              "      <td>-0.977469</td>\n",
              "      <td>-0.938692</td>\n",
              "      <td>-0.557851</td>\n",
              "      <td>-0.818409</td>\n",
              "      <td>0.843609</td>\n",
              "      <td>0.682401</td>\n",
              "      <td>0.839344</td>\n",
              "      <td>-0.983478</td>\n",
              "      <td>-0.999969</td>\n",
              "      <td>-0.999660</td>\n",
              "      <td>-0.999470</td>\n",
              "      <td>-0.997130</td>\n",
              "      <td>-0.964810</td>\n",
              "      <td>-0.974675</td>\n",
              "      <td>-0.592235</td>\n",
              "      <td>-0.485821</td>\n",
              "      <td>-0.570979</td>\n",
              "      <td>0.273025</td>\n",
              "      <td>-0.086309</td>\n",
              "      <td>0.337202</td>\n",
              "      <td>-0.164739</td>\n",
              "      <td>0.017150</td>\n",
              "      <td>-0.074507</td>\n",
              "      <td>0.342256</td>\n",
              "      <td>-0.332564</td>\n",
              "      <td>0.239281</td>\n",
              "      <td>-0.136204</td>\n",
              "      <td>0.173863</td>\n",
              "      <td>-0.299493</td>\n",
              "      <td>-0.124698</td>\n",
              "      <td>-0.181105</td>\n",
              "      <td>0.608900</td>\n",
              "      <td>...</td>\n",
              "      <td>-0.999845</td>\n",
              "      <td>-0.986658</td>\n",
              "      <td>-1.0</td>\n",
              "      <td>-0.904762</td>\n",
              "      <td>0.660795</td>\n",
              "      <td>-0.724697</td>\n",
              "      <td>-0.928539</td>\n",
              "      <td>-0.989255</td>\n",
              "      <td>-0.986028</td>\n",
              "      <td>-0.984274</td>\n",
              "      <td>-0.990979</td>\n",
              "      <td>-0.995703</td>\n",
              "      <td>-0.989255</td>\n",
              "      <td>-0.999854</td>\n",
              "      <td>-0.993238</td>\n",
              "      <td>-0.736521</td>\n",
              "      <td>-0.794872</td>\n",
              "      <td>-0.212728</td>\n",
              "      <td>-0.535352</td>\n",
              "      <td>-0.871914</td>\n",
              "      <td>-0.995031</td>\n",
              "      <td>-0.995127</td>\n",
              "      <td>-0.994640</td>\n",
              "      <td>-0.996060</td>\n",
              "      <td>-0.995866</td>\n",
              "      <td>-0.995031</td>\n",
              "      <td>-0.999973</td>\n",
              "      <td>-0.993755</td>\n",
              "      <td>-1.000000</td>\n",
              "      <td>-0.555556</td>\n",
              "      <td>0.414503</td>\n",
              "      <td>-0.390748</td>\n",
              "      <td>-0.760104</td>\n",
              "      <td>-0.118559</td>\n",
              "      <td>0.177899</td>\n",
              "      <td>0.100699</td>\n",
              "      <td>0.808529</td>\n",
              "      <td>-0.848933</td>\n",
              "      <td>0.180637</td>\n",
              "      <td>-0.049118</td>\n",
              "    </tr>\n",
              "    <tr>\n",
              "      <th>3</th>\n",
              "      <td>0.279174</td>\n",
              "      <td>-0.026201</td>\n",
              "      <td>-0.123283</td>\n",
              "      <td>-0.996091</td>\n",
              "      <td>-0.983403</td>\n",
              "      <td>-0.990675</td>\n",
              "      <td>-0.997099</td>\n",
              "      <td>-0.982750</td>\n",
              "      <td>-0.989302</td>\n",
              "      <td>-0.938692</td>\n",
              "      <td>-0.576159</td>\n",
              "      <td>-0.829711</td>\n",
              "      <td>0.843609</td>\n",
              "      <td>0.682401</td>\n",
              "      <td>0.837869</td>\n",
              "      <td>-0.986093</td>\n",
              "      <td>-0.999976</td>\n",
              "      <td>-0.999736</td>\n",
              "      <td>-0.999504</td>\n",
              "      <td>-0.997180</td>\n",
              "      <td>-0.983799</td>\n",
              "      <td>-0.986007</td>\n",
              "      <td>-0.627446</td>\n",
              "      <td>-0.850930</td>\n",
              "      <td>-0.911872</td>\n",
              "      <td>0.061436</td>\n",
              "      <td>0.074840</td>\n",
              "      <td>0.198204</td>\n",
              "      <td>-0.264307</td>\n",
              "      <td>0.072545</td>\n",
              "      <td>-0.155320</td>\n",
              "      <td>0.323154</td>\n",
              "      <td>-0.170813</td>\n",
              "      <td>0.294938</td>\n",
              "      <td>-0.306081</td>\n",
              "      <td>0.482148</td>\n",
              "      <td>-0.470129</td>\n",
              "      <td>-0.305693</td>\n",
              "      <td>-0.362654</td>\n",
              "      <td>0.507459</td>\n",
              "      <td>...</td>\n",
              "      <td>-0.999895</td>\n",
              "      <td>-0.988055</td>\n",
              "      <td>-1.0</td>\n",
              "      <td>1.000000</td>\n",
              "      <td>0.678921</td>\n",
              "      <td>-0.701131</td>\n",
              "      <td>-0.909639</td>\n",
              "      <td>-0.989413</td>\n",
              "      <td>-0.987836</td>\n",
              "      <td>-0.986850</td>\n",
              "      <td>-0.986749</td>\n",
              "      <td>-0.996199</td>\n",
              "      <td>-0.989413</td>\n",
              "      <td>-0.999876</td>\n",
              "      <td>-0.989136</td>\n",
              "      <td>-0.720891</td>\n",
              "      <td>-1.000000</td>\n",
              "      <td>-0.035684</td>\n",
              "      <td>-0.230091</td>\n",
              "      <td>-0.511217</td>\n",
              "      <td>-0.995221</td>\n",
              "      <td>-0.995237</td>\n",
              "      <td>-0.995722</td>\n",
              "      <td>-0.995273</td>\n",
              "      <td>-0.995732</td>\n",
              "      <td>-0.995221</td>\n",
              "      <td>-0.999974</td>\n",
              "      <td>-0.995226</td>\n",
              "      <td>-0.955696</td>\n",
              "      <td>-0.936508</td>\n",
              "      <td>0.404573</td>\n",
              "      <td>-0.117290</td>\n",
              "      <td>-0.482845</td>\n",
              "      <td>-0.036788</td>\n",
              "      <td>-0.012892</td>\n",
              "      <td>0.640011</td>\n",
              "      <td>-0.485366</td>\n",
              "      <td>-0.848649</td>\n",
              "      <td>0.181935</td>\n",
              "      <td>-0.047663</td>\n",
              "    </tr>\n",
              "    <tr>\n",
              "      <th>4</th>\n",
              "      <td>0.276629</td>\n",
              "      <td>-0.016570</td>\n",
              "      <td>-0.115362</td>\n",
              "      <td>-0.998139</td>\n",
              "      <td>-0.980817</td>\n",
              "      <td>-0.990482</td>\n",
              "      <td>-0.998321</td>\n",
              "      <td>-0.979672</td>\n",
              "      <td>-0.990441</td>\n",
              "      <td>-0.942469</td>\n",
              "      <td>-0.569174</td>\n",
              "      <td>-0.824705</td>\n",
              "      <td>0.849095</td>\n",
              "      <td>0.683250</td>\n",
              "      <td>0.837869</td>\n",
              "      <td>-0.992653</td>\n",
              "      <td>-0.999991</td>\n",
              "      <td>-0.999856</td>\n",
              "      <td>-0.999757</td>\n",
              "      <td>-0.998004</td>\n",
              "      <td>-0.981232</td>\n",
              "      <td>-0.991325</td>\n",
              "      <td>-0.786553</td>\n",
              "      <td>-0.559477</td>\n",
              "      <td>-0.761434</td>\n",
              "      <td>0.313276</td>\n",
              "      <td>-0.131208</td>\n",
              "      <td>0.191161</td>\n",
              "      <td>0.086904</td>\n",
              "      <td>0.257615</td>\n",
              "      <td>-0.272505</td>\n",
              "      <td>0.434728</td>\n",
              "      <td>-0.315375</td>\n",
              "      <td>0.439744</td>\n",
              "      <td>-0.269069</td>\n",
              "      <td>0.179414</td>\n",
              "      <td>-0.088952</td>\n",
              "      <td>-0.155804</td>\n",
              "      <td>-0.189763</td>\n",
              "      <td>0.599213</td>\n",
              "      <td>...</td>\n",
              "      <td>-0.999941</td>\n",
              "      <td>-0.994169</td>\n",
              "      <td>-1.0</td>\n",
              "      <td>-1.000000</td>\n",
              "      <td>0.559058</td>\n",
              "      <td>-0.528901</td>\n",
              "      <td>-0.858933</td>\n",
              "      <td>-0.991433</td>\n",
              "      <td>-0.989059</td>\n",
              "      <td>-0.987744</td>\n",
              "      <td>-0.991462</td>\n",
              "      <td>-0.998353</td>\n",
              "      <td>-0.991433</td>\n",
              "      <td>-0.999902</td>\n",
              "      <td>-0.989321</td>\n",
              "      <td>-0.763372</td>\n",
              "      <td>-0.897436</td>\n",
              "      <td>-0.273582</td>\n",
              "      <td>-0.510282</td>\n",
              "      <td>-0.830702</td>\n",
              "      <td>-0.995093</td>\n",
              "      <td>-0.995465</td>\n",
              "      <td>-0.995279</td>\n",
              "      <td>-0.995609</td>\n",
              "      <td>-0.997418</td>\n",
              "      <td>-0.995093</td>\n",
              "      <td>-0.999974</td>\n",
              "      <td>-0.995487</td>\n",
              "      <td>-1.000000</td>\n",
              "      <td>-0.936508</td>\n",
              "      <td>0.087753</td>\n",
              "      <td>-0.351471</td>\n",
              "      <td>-0.699205</td>\n",
              "      <td>0.123320</td>\n",
              "      <td>0.122542</td>\n",
              "      <td>0.693578</td>\n",
              "      <td>-0.615971</td>\n",
              "      <td>-0.847865</td>\n",
              "      <td>0.185151</td>\n",
              "      <td>-0.043892</td>\n",
              "    </tr>\n",
              "  </tbody>\n",
              "</table>\n",
              "<p>5 rows × 561 columns</p>\n",
              "</div>"
            ],
            "text/plain": [
              "   tBodyAcc-mean()-X  ...  angle(Z,gravityMean)\n",
              "0           0.288585  ...             -0.058627\n",
              "1           0.278419  ...             -0.054317\n",
              "2           0.279653  ...             -0.049118\n",
              "3           0.279174  ...             -0.047663\n",
              "4           0.276629  ...             -0.043892\n",
              "\n",
              "[5 rows x 561 columns]"
            ]
          },
          "metadata": {
            "tags": []
          },
          "execution_count": 28
        }
      ]
    },
    {
      "cell_type": "code",
      "metadata": {
        "id": "VKATStsnNJ8a",
        "colab_type": "code",
        "colab": {
          "base_uri": "https://localhost:8080/",
          "height": 221
        },
        "outputId": "ed400332-6a8b-4a8b-8f20-fd308012050d"
      },
      "source": [
        "y_train"
      ],
      "execution_count": null,
      "outputs": [
        {
          "output_type": "execute_result",
          "data": {
            "text/plain": [
              "0               STANDING\n",
              "1               STANDING\n",
              "2               STANDING\n",
              "3               STANDING\n",
              "4               STANDING\n",
              "              ...       \n",
              "7347    WALKING_UPSTAIRS\n",
              "7348    WALKING_UPSTAIRS\n",
              "7349    WALKING_UPSTAIRS\n",
              "7350    WALKING_UPSTAIRS\n",
              "7351    WALKING_UPSTAIRS\n",
              "Name: Activity, Length: 7352, dtype: object"
            ]
          },
          "metadata": {
            "tags": []
          },
          "execution_count": 29
        }
      ]
    },
    {
      "cell_type": "code",
      "metadata": {
        "id": "_diFZrw3NPI0",
        "colab_type": "code",
        "colab": {}
      },
      "source": [
        "from sklearn.linear_model import LogisticRegression\n",
        "model = LogisticRegression()"
      ],
      "execution_count": null,
      "outputs": []
    },
    {
      "cell_type": "code",
      "metadata": {
        "id": "A70Yap--Ncj-",
        "colab_type": "code",
        "colab": {
          "base_uri": "https://localhost:8080/",
          "height": 102
        },
        "outputId": "d9cbf2e5-8825-4f8a-a0ae-8f70eb1b9ba9"
      },
      "source": [
        "model.fit(x_train, y_train)"
      ],
      "execution_count": null,
      "outputs": [
        {
          "output_type": "execute_result",
          "data": {
            "text/plain": [
              "LogisticRegression(C=1.0, class_weight=None, dual=False, fit_intercept=True,\n",
              "                   intercept_scaling=1, l1_ratio=None, max_iter=100,\n",
              "                   multi_class='auto', n_jobs=None, penalty='l2',\n",
              "                   random_state=None, solver='lbfgs', tol=0.0001, verbose=0,\n",
              "                   warm_start=False)"
            ]
          },
          "metadata": {
            "tags": []
          },
          "execution_count": 31
        }
      ]
    },
    {
      "cell_type": "code",
      "metadata": {
        "id": "CQew8ttjNjXA",
        "colab_type": "code",
        "colab": {}
      },
      "source": [
        "x_test = test_df.drop(['Activity','subject'], axis = 1)\n",
        "y_test = test_df['Activity']"
      ],
      "execution_count": null,
      "outputs": []
    },
    {
      "cell_type": "code",
      "metadata": {
        "id": "DVKEOL7xNt6K",
        "colab_type": "code",
        "colab": {}
      },
      "source": [
        "predict = model.predict(x_test)"
      ],
      "execution_count": null,
      "outputs": []
    },
    {
      "cell_type": "code",
      "metadata": {
        "id": "AxH0W1vIN05i",
        "colab_type": "code",
        "colab": {
          "base_uri": "https://localhost:8080/",
          "height": 34
        },
        "outputId": "25817d08-18af-4f38-84e4-45b6f51d4c88"
      },
      "source": [
        "len(predict)"
      ],
      "execution_count": null,
      "outputs": [
        {
          "output_type": "execute_result",
          "data": {
            "text/plain": [
              "2947"
            ]
          },
          "metadata": {
            "tags": []
          },
          "execution_count": 35
        }
      ]
    },
    {
      "cell_type": "code",
      "metadata": {
        "id": "5s-YqQa7N7J2",
        "colab_type": "code",
        "colab": {
          "base_uri": "https://localhost:8080/",
          "height": 34
        },
        "outputId": "a8aca447-31ad-4d54-cb67-9d7e0d70d790"
      },
      "source": [
        "len(y_test)"
      ],
      "execution_count": null,
      "outputs": [
        {
          "output_type": "execute_result",
          "data": {
            "text/plain": [
              "2947"
            ]
          },
          "metadata": {
            "tags": []
          },
          "execution_count": 36
        }
      ]
    },
    {
      "cell_type": "code",
      "metadata": {
        "id": "_es0CoGwN_B7",
        "colab_type": "code",
        "colab": {
          "base_uri": "https://localhost:8080/",
          "height": 34
        },
        "outputId": "cfe470c0-ea17-4f00-9fa8-e2b7293e9c69"
      },
      "source": [
        "from sklearn.metrics import accuracy_score\n",
        "accuracy_score(y_test, predict)*100"
      ],
      "execution_count": null,
      "outputs": [
        {
          "output_type": "execute_result",
          "data": {
            "text/plain": [
              "95.79233118425518"
            ]
          },
          "metadata": {
            "tags": []
          },
          "execution_count": 38
        }
      ]
    }
  ]
}